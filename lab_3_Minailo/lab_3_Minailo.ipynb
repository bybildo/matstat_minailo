{
 "cells": [
  {
   "cell_type": "markdown",
   "id": "a585fe13-79fe-4a0c-b66d-650ddadcdb3a",
   "metadata": {},
   "source": [
    "---\n",
    "# <center> Лабораторна робота №3 </center>\n",
    "## __Тема. Аналіз складності алгоритмів. Алгоритми сортування__\n",
    "## __Мета:__ освоїти аналіз складності алгоритмів як технологію на прикладі алгоритмів сортування методами включення та обміну.\n",
    "### _Викoнав Міняйло Марк 25.03.24_\n",
    "---"
   ]
  },
  {
   "cell_type": "markdown",
   "id": "dc0c1c8a-34b8-4bf0-a944-35ee2e835184",
   "metadata": {},
   "source": [
    "## <center> Хід роботи </center>\n",
    "#### 4) Реалізувати на Python алгоритм сортування методом бульбашки."
   ]
  },
  {
   "cell_type": "code",
   "execution_count": 12,
   "id": "979b9df1-f900-47bc-b14a-ad14aacc4650",
   "metadata": {},
   "outputs": [
    {
     "name": "stdout",
     "output_type": "stream",
     "text": [
      "Sorted list:  [11, 12, 22, 25, 34, 64, 90]\n"
     ]
    }
   ],
   "source": [
    "def bubble_sort(array):\n",
    "    for i in range(0, len(array)):\n",
    "        for j in range(0, len(array) - i -1):\n",
    "            if array[j] > array[j+1]:\n",
    "                array[j], array[j+1] = array[j+1], array[j]\n",
    "    return array\n",
    "    \n",
    "print(f\"Sorted list:  {bubble_sort([64, 34, 25, 12, 22, 11, 90])}\")"
   ]
  },
  {
   "cell_type": "markdown",
   "id": "e6f72904-dc6f-452c-8ece-6b071a969bf8",
   "metadata": {},
   "source": [
    "#### 5) Дослідити реальний час виконання обох алгоритмів на Python і побудувати графіки залежностей Tinsert(n) та Tbuble(n) для n =[5, 10, 50, 100, 500, 1000, 2000, 3000, 4000, 5000, 10000, 20000, 50000, 10000],згенерувавши відповідні цілочисельні масиви.\n",
    "(я трохи зменшив кількість масивів для економії часу)"
   ]
  },
  {
   "cell_type": "code",
   "execution_count": 72,
   "id": "ac05b6ae-2fc5-4fbc-bede-079a9d3361ba",
   "metadata": {},
   "outputs": [
    {
     "name": "stdout",
     "output_type": "stream",
     "text": [
      "Червоною лінією зображено BubbleSort, чорною лінією InsertSort\n"
     ]
    },
    {
     "data": {
      "image/png": "[encoded data removed]",
      "text/plain": [
       "<Figure size 640x480 with 1 Axes>"
      ]
     },
     "metadata": {},
     "output_type": "display_data"
    }
   ],
   "source": [
    "import matplotlib.pyplot as plt\n",
    "import time\n",
    "import random\n",
    "%matplotlib inline\n",
    "\n",
    "def bubble_sort(array):\n",
    "    for i in range(0, len(array)):\n",
    "        for j in range(0, len(array) - i -1):\n",
    "            if array[j] > array[j+1]:\n",
    "                array[j], array[j+1] = array[j+1], array[j]\n",
    "\n",
    "def insertion_sort(nums):\n",
    "    for j in range(1, len(nums)):\n",
    "        key = nums[j]\n",
    "        i = j - 1\n",
    "        while i >= 0 and nums[i] > key:\n",
    "            nums[i + 1] = nums[i]\n",
    "            i -= 1\n",
    "        nums[i + 1] = key\n",
    "                \n",
    "sizes = [5, 10, 50, 100, 500, 1000, 2000, 3000, 4000, 5000]\n",
    "arrays = []\n",
    "for size in sizes:\n",
    "    array = [random.randint(0, 100) for _ in range(size)]\n",
    "    arrays.append(array)\n",
    "\n",
    "timeB = []\n",
    "for n in range(len(sizes)):\n",
    "    start_time = time.time()\n",
    "    bubble_sort(arrays[n])\n",
    "    timeB.append(time.time() - start_time)\n",
    "timeI = []\n",
    "for n in range(len(sizes)):\n",
    "    start_time = time.time()\n",
    "    bubble_sort(arrays[n])\n",
    "    timeI.append(time.time() - start_time)\n",
    "\n",
    "plt.plot([5, 10, 50, 100, 500, 1000, 2000, 3000, 4000, 5000], [timeB[0], timeB[1],timeB[2],timeB[3],timeB[4],timeB[5],timeB[6],timeB[7],timeB[8],timeB[9]], color='red')\n",
    "plt.plot([5, 10, 50, 100, 500, 1000, 2000, 3000, 4000, 5000], [timeI[0], timeI[1],timeI[2],timeI[3],timeI[4],timeI[5],timeI[6],timeI[7],timeI[8],timeI[9]], color='black')\n",
    "print(\"Червоною лінією зображено BubbleSort, чорною лінією InsertSort\")"
   ]
  },
  {
   "cell_type": "markdown",
   "id": "cc4feba2-69da-479e-a717-6dd5b34df2ac",
   "metadata": {},
   "source": [
    "---\n",
    "#### 6) Надати відповіді на контрольні запитання\n",
    "1. Що таке O-нотація і чим вона відрізняється від Ω -нотації?\n",
    "\n",
    "*O-нотація, використовується для показу асиптотичної складності алгоритму. O-нотація показує верхню межу часової складності алгоритму, а Ω - нижню*\n",
    "\n",
    "2. Яку часову складність має алгоритм сортування методом вставляння за найсприятливіших умов, коли масив відсортовано? Відповідь обґрунтувати.\n",
    "   \n",
    "*За найспритливіших умов алгоритм методом вставляння має асимптотичну складність O(n), бо містить while p з умовою nums[i] > key, яка при nums[i] < key не виконуватиметься, позбуваючись цикла в циклі*\n",
    "\n",
    "3. Надати визначення ефективного алгоритму.\n",
    "   \n",
    "*Ефективний алгоритм повинен бути з оптимальною часовою складністю для відповідної задачі. Повинен виконуватись швидко і досягати найкращого можливого результату*\n",
    "   \n",
    "4. Пояснити поняття головного параметра (розміру) завдання.\n",
    "\n",
    "*Головний параметр завдання - це кількість елементів масиву, визначає розмір задачі, використовується для знаходження асимптотичної складності алгоритму* \n",
    "\n",
    "5. Функція часової складності має вигляд:$ f(x) = n^3 + 7n^2 - 14n $ , Як записати асимптотичну складність у O-нотації?\n",
    "   \n",
    "*$ O(n^3) $ бо ми нехтуємо константами і значеннями менші за найбільший*ії?"
   ]
  },
  {
   "cell_type": "code",
   "execution_count": null,
   "id": "40e004a4-a9f4-4cf1-8daa-4ce99eab04c3",
   "metadata": {},
   "outputs": [],
   "source": []
  }
 ],
 "metadata": {
  "kernelspec": {
   "display_name": "Python 3 (ipykernel)",
   "language": "python",
   "name": "python3"
  },
  "language_info": {
   "codemirror_mode": {
    "name": "ipython",
    "version": 3
   },
   "file_extension": ".py",
   "mimetype": "text/x-python",
   "name": "python",
   "nbconvert_exporter": "python",
   "pygments_lexer": "ipython3",
   "version": "3.12.2"
  }
 },
 "nbformat": 4,
 "nbformat_minor": 5
}
