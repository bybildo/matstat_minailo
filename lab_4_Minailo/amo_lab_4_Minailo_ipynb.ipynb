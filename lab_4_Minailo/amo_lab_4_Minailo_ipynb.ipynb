{
 "cells": [
  {
   "cell_type": "markdown",
   "id": "8ee6c505-af0d-427b-aabd-ea5d901acd1e",
   "metadata": {},
   "source": [
    "---\n",
    "# <center> Лабораторна робота №4. Рекурсія. Стратегія \"розділяй і володарюй </center>\n",
    "## __Тема. Рекурсія. Стратегія «розділяй і володарюй»__\n",
    "## __Мета:__ засвоїти технологію реалізації рекурсивних алгоритмів засобами Python і оцінювання їх складності з використанням основної теореми рекурсії\n",
    "### _Викoнав Міняйло Марк 02.04.24_\n",
    "----"
   ]
  },
  {
   "cell_type": "markdown",
   "id": "7707c7e2-0c9a-47b2-ace8-50a823e2c784",
   "metadata": {},
   "source": [
    "## <center> Хід роботи </center>\n",
    "#### Реалізувати процедуру обчислення факторіалу за допомогою цикла for. Оцінити асимптотичну складність алгоритму"
   ]
  },
  {
   "cell_type": "code",
   "execution_count": 21,
   "id": "5a3abe36-8855-42ac-804b-43b390db78f0",
   "metadata": {},
   "outputs": [
    {
     "name": "stdout",
     "output_type": "stream",
     "text": [
      "Факторіал від 5: 120\n"
     ]
    }
   ],
   "source": [
    "def Factorial(n):\n",
    "    sum = 1 #c1\n",
    "    for num in range(1, n + 1): #c2\n",
    "        sum *= num #c3\n",
    "    return sum #c34\n",
    "\n",
    "print(f\"Факторіал від 5: {Factorial(5)}\")\n"
   ]
  },
  {
   "cell_type": "code",
   "execution_count": 28,
   "id": "01257d9b-f28f-4cb0-93ca-dcae08218a10",
   "metadata": {},
   "outputs": [
    {
     "name": "stdout",
     "output_type": "stream",
     "text": [
      "Факторіал від 5: 120\n"
     ]
    }
   ],
   "source": [
    "def Factorial(n):\n",
    "    sum = 1 #c1\n",
    "    for num in range(1, n+1): #c2\n",
    "        sum *= num #c3\n",
    "    return sum #c4\n",
    "\n",
    "print(f\"Факторіал від 5: {Factorial(5)}\")\n"
   ]
  },
  {
   "cell_type": "markdown",
   "id": "adf5d3f1-925d-40c5-a5b4-4e54d36c69fa",
   "metadata": {},
   "source": [
    "$(c_2 + c_3)N + (c_1 + c_3 + c_4)$\n",
    "\n",
    "aN + b\n",
    "\n",
    "~a~N + ~b~ = O(N)\n",
    "\n",
    "#### Оцінити асимптотичну складність рекурсивного алгоритму обчислення факторіалу"
   ]
  },
  {
   "cell_type": "code",
   "execution_count": 29,
   "id": "8595ffbc-a48b-461b-ac96-a5f448932f45",
   "metadata": {},
   "outputs": [
    {
     "name": "stdin",
     "output_type": "stream",
     "text": [
      " 6\n"
     ]
    },
    {
     "data": {
      "text/plain": [
       "720"
      ]
     },
     "execution_count": 29,
     "metadata": {},
     "output_type": "execute_result"
    }
   ],
   "source": [
    "def fac(n):\n",
    "    if n == 0:\n",
    "        return(1)\n",
    "    return fac(n-1) * n\n",
    "n = int(input())\n",
    "fac(n)"
   ]
  },
  {
   "cell_type": "markdown",
   "id": "6a2468c6-ec13-4828-8152-93108691c8c8",
   "metadata": {},
   "source": [
    "Асимптотична складність при N>0 буде така сама O(N), бо рекурсія викликає себе N - 1 разів, але якщо N = 0, то асимптотична складність буде дорівнювати O(1)\n",
    "\n",
    "#### Оцінити асимптотичну складність рекурсивного алгоритму обчислення n-го числа Фібоначчі"
   ]
  },
  {
   "cell_type": "code",
   "execution_count": 30,
   "id": "32bae3a5-c3e2-415f-baf3-a745922081ed",
   "metadata": {},
   "outputs": [
    {
     "name": "stdout",
     "output_type": "stream",
     "text": [
      "832040\n"
     ]
    }
   ],
   "source": [
    "def fibonacci(n):\n",
    "    if n == 0:\n",
    "        return 0\n",
    "    if n in (1, 2):\n",
    "        return 1\n",
    "    return fibonacci(n - 1) + fibonacci(n - 2)\n",
    "\n",
    "print(fibonacci(30))"
   ]
  },
  {
   "cell_type": "markdown",
   "id": "4a491a57-bdac-4f4e-b326-2b2c64bb0f71",
   "metadata": {},
   "source": [
    "Якщо N в діапазоні від (0-2) аисмптотична складність буде дорівнювати O(1), якщо N > 2 то асимптотична складність N($n^2$), бо кожну ітерацію функція викликає сама себе двічі\n",
    "\n",
    "#### Оцінити асимптотичну складність алгоритму сортуванням злиттям, використовуючи основну теорему рекурсії."
   ]
  },
  {
   "cell_type": "code",
   "execution_count": 33,
   "id": "9c45009c-ab71-46a5-97d1-a9bcc567e03d",
   "metadata": {},
   "outputs": [
    {
     "name": "stdout",
     "output_type": "stream",
     "text": [
      "[1, 2, 3, 4, 5, 6, 7, 8]\n"
     ]
    }
   ],
   "source": [
    "def merge(left, right):\n",
    "    result = []                               ##  c1     1 \n",
    "    i, j = 0, 0                               ##  c2     1\n",
    "    while i < len(left) and j < len(right):   ##  c3     n+1\n",
    "        if left[i] <= right[j]:               ##  c4     n \n",
    "            result.append(left[i])            ##  c5     n-1\n",
    "            i += 1                            ##  c6     n-1 \n",
    "        else:                                 ##  c7     n \n",
    "            result.append(right[j])           ##  c8     n-1 \n",
    "            j += 1                            ##  c9     n-1 \n",
    "    result += left[i:]                        ##  c10    1 \n",
    "    result += right[j:]                       ##  c11    1\n",
    "    return result                             ##  c12    1\n",
    "\n",
    "#(c3+c5+c6+c7+c8+c9)n + (c1+c2+c3-c5-c6-c8-c9-c10+c11+c12)\n",
    "#an+b = O(n)\n",
    "                                            \n",
    "def mergesort(lst):                           ##  \n",
    "    if len(lst) < 2:                          ##  c1      1\n",
    "        return lst                            ##  c2      0\n",
    "    middle = len(lst) // 2                    ##  c3      1\n",
    "    left = mergesort(lst[:middle])            ##  c4      n log n\n",
    "    right = mergesort(lst[middle:])           ##  c5      n log n\n",
    "    return merge(left, right)                 ##  c6      1\n",
    "\n",
    "#(c4+c5)nlog(n) + (c1+c3+c4+c6) = a*nlog(n)+b = O(nlog(n))\n",
    "\n",
    "a  = [6, 5, 3, 1, 8, 7, 2, 4]\n",
    "print(mergesort(a))\n"
   ]
  },
  {
   "cell_type": "markdown",
   "id": "a105241e-be2e-4043-b5f5-13808ba80529",
   "metadata": {},
   "source": [
    "#### 2) Надати відповіді на контрольні запитання\n",
    "\n",
    "1. Дати визначення складності задачі з символом $\\Omega$\n",
    "\n",
    "*Вказує на нижню межу складності алгоритму. Якщо часова складність алгоритму оцінюється як $\\Omega(n)$, то це означає, що алгоритм не буде виконуватися повільніше, ніж лінійна функція від розміру вхідних даних*\n",
    "\n",
    "2. Функція часової складності має вигляд: $F(N)=N^3+7N^2-14N$. Як записати аисмптотичну складність в нотації $O()$?\n",
    "\n",
    "$$F(N)=N^3+7N^2-14N$$\n",
    "\n",
    "$$N^3+7N^2-14N = c \\bullet N^3$$ , де $N_0$ >= 1, c = 1, $O(n^3)$\n",
    "\n",
    "3. Функція часової складності має вигляд: $F(N)=1.01^N+N^{10}$. Як записати аисмптотичну складність в нотації $O()$?\n",
    "\n",
    "*Я не можу записати математично, бо не знайшов точний калькулятор для великих N у степені, але можу із повною впевненістю сказати що це буде $O(1,01^N$), бо це експоненціальна складність, гірше може бути тільки факторіальна*\n",
    "\n",
    "4. Функція часової складності має вигляд: $F(N) = N^{1.3} + 10log_2 N$. Як записати асимптотичну складність у O-нотації?\n",
    "\n",
    "$$F(N) = N^{1.3} + 10log_2 N$$\n",
    "$$N^{1.3} + 10log_2 N < C \\bullet N^{1.3}$$\n",
    "\n",
    ", де $N_0$ >= 2, C = 5, $O(n^{1.3})$\n",
    "\n",
    "5. У чому полягає ідея розпаралелювання обчислень і для чого вона\n",
    "використовується? Які з алгоритмів, наведених у цій лабораторній роботі,\n",
    "дозволяють можливість розпаралелювання?\n",
    "\n",
    "*Ідея полягає в розбитті задачі на менші підзадачі, які можуть виконуватися одночасно. Кожна підзадача розбивається на послідовність інструкцій, які обчислюються паралельно, по принципу розділяй і володарюй. Ми розглядали пошук факторіала через рекурсію, пошук числа Фабоначчі, та сортування злиттям*\n",
    "\n",
    "6. Які існують способи підвищення обчислювальної швидкості алгоритмів? Який з них є найефективнішим?\n",
    "\n",
    "*Ретельно дослідити і аналізувати свій код, видалити чи спростити зайві операції, замінити алгоритми на більш ефективні, найефетивніший буде створення рекурсії*"
   ]
  }
 ],
 "metadata": {
  "kernelspec": {
   "display_name": "Python 3 (ipykernel)",
   "language": "python",
   "name": "python3"
  },
  "language_info": {
   "codemirror_mode": {
    "name": "ipython",
    "version": 3
   },
   "file_extension": ".py",
   "mimetype": "text/x-python",
   "name": "python",
   "nbconvert_exporter": "python",
   "pygments_lexer": "ipython3",
   "version": "3.12.2"
  }
 },
 "nbformat": 4,
 "nbformat_minor": 5
}
