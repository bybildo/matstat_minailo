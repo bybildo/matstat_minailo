{
 "cells": [
  {
   "cell_type": "markdown",
   "id": "a3079d3c-693e-481a-9388-10aaa83c20cf",
   "metadata": {},
   "source": [
    "---\n",
    "# <center> Лабораторна робота №5</center>\n",
    "## __Тема.__ Алгоритми пошуку\n",
    "## __Мета:__ засвоїти варіанти реалізації алгоритмів пошуку засобами Python і методи оцінювання їх складності.\n",
    "### _Викoнав Міняйло Марк 12.04.24_\n",
    "-----"
   ]
  },
  {
   "cell_type": "markdown",
   "id": "9b92488b-00e5-4f29-9f2e-2419f482a784",
   "metadata": {},
   "source": [
    "## <center> Хід роботи </center>\n",
    "#### Oцінити асимптотичну складність"
   ]
  },
  {
   "cell_type": "code",
   "execution_count": 9,
   "id": "0eeb6864-3acd-4363-b536-81411701d75e",
   "metadata": {},
   "outputs": [
    {
     "name": "stdin",
     "output_type": "stream",
     "text": [
      "Введіть шуканий елемент:  2\n"
     ]
    },
    {
     "data": {
      "text/plain": [
       "5"
      ]
     },
     "execution_count": 9,
     "metadata": {},
     "output_type": "execute_result"
    }
   ],
   "source": [
    "def linear_search(a_list, x):                ##          у найкращому # у найгіршому\n",
    "    i, length = 0, len(a_list)               ##  c1           1       #       1      \n",
    "    while i < length and x != a_list[i]:     ##  c2           1       #      n+1      \n",
    "        i += 1                               ##  c3           0       #       n             \n",
    "    return i+1 if i < length else -1         ##  c4           1       #       1        \n",
    "    \n",
    "# у найкращому: (c1 + c2 + c4) = O(1)\n",
    "# у найгіршому: (c2 + c3)n + (c1 + c2 + c4) = a * n + b = O(n)\n",
    "\n",
    "search_item = int(input(\"Введіть шуканий елемент: \"))\n",
    "\n",
    "a = [32, 1, 3, 4, 2, 1]\n",
    "linear_search(a, search_item)\n"
   ]
  },
  {
   "cell_type": "markdown",
   "id": "5e7b5db0-cca6-40a2-a268-a5889d988aa2",
   "metadata": {},
   "source": [
    "#### Оцінити асимптотичну складність алгоритму бінарного пошуку в О-нотації"
   ]
  },
  {
   "cell_type": "code",
   "execution_count": 15,
   "id": "2d0147ed-9868-40d9-99ca-238462edc57d",
   "metadata": {},
   "outputs": [
    {
     "name": "stdin",
     "output_type": "stream",
     "text": [
      "Введіть шуканий елемент:  8\n"
     ]
    },
    {
     "data": {
      "text/plain": [
       "2"
      ]
     },
     "execution_count": 15,
     "metadata": {},
     "output_type": "execute_result"
    }
   ],
   "source": [
    "def bin_search(a_list, x, left, right):                    ##         у найкращому # у найгіршому\n",
    "    if left > right or len(a_list) == 0:                   ##  c1          1       #       1        \n",
    "        return -1                                          ##  c2          1       #       0\n",
    "    middle = (left + right) // 2                           ##  c3          1       #       1\n",
    "    if a_list[middle] == x:                                ##  c4          1       #       1\n",
    "        return middle + 1                                  ##  c5          1       #       0\n",
    "    elif (a_list[middle] < x):                             ##  c6          0       #       1\n",
    "        return bin_search(a_list, x, middle + 1, right)    ##  c7          0       #     Log(n)\n",
    "    else: # a_list[middle] > x                             ##  c8          0       #       1\n",
    "        return bin_search(a_list, x, left, middle - 1)     ##  c9          0       #     Log(n)\n",
    "\n",
    "# У найкращому: (с1 + с2) або (с1 + с3 + с4 + с5), в будь-якому випадку = О(1)\n",
    "# У найгіршому: (с7 + с9)Log(n) + (с1 + с3 + с4 + с6 + с7) = a * Log(n) + b = O(Log(n))\n",
    "\n",
    "a = range(7,21)\n",
    "search_item = int(input(\"Введіть шуканий елемент: \"))\n",
    "bin_search(a, search_item, 0, len(a) - 1)"
   ]
  },
  {
   "cell_type": "markdown",
   "id": "6ae041da-f97c-4c80-9312-9778924b21c4",
   "metadata": {},
   "source": [
    "#### Написати функцію, яка б могла повертати датафрейм з таким складом полів: («n», «time»), де n – розмір масиву для функції linear_searh() і для функції bin_searh(); \n",
    "#### За результатами попередніх завдань побудувати графіки залежності часу виконання процедури пошуку від розміру масиву."
   ]
  },
  {
   "cell_type": "code",
   "execution_count": 43,
   "id": "226bcfa9-59d3-4d01-a1ec-1f6bfef40660",
   "metadata": {},
   "outputs": [
    {
     "name": "stdout",
     "output_type": "stream",
     "text": [
      "Червоною лінією зображено binary search, чорною лінією linear search\n"
     ]
    },
    {
     "data": {
      "image/png": "[encoded data removed]",
      "text/plain": [
       "<Figure size 640x480 with 1 Axes>"
      ]
     },
     "metadata": {},
     "output_type": "display_data"
    }
   ],
   "source": [
    "import matplotlib.pyplot as plt\n",
    "import time\n",
    "import random\n",
    "%matplotlib inline\n",
    "\n",
    "def linear_search(array, target):\n",
    "    for i in range(len(array)):\n",
    "        if array[i] == target:\n",
    "            return i\n",
    "    return -1\n",
    "    \n",
    "def bin_search(array, target):\n",
    "    low = 0\n",
    "    high = len(array) - 1\n",
    "\n",
    "    while low <= high:\n",
    "        mid = (low + high) // 2\n",
    "        if array[mid] < target:\n",
    "            low = mid + 1\n",
    "        elif array[mid] > target:\n",
    "            high = mid - 1\n",
    "        else:\n",
    "            return mid\n",
    "    return -1\n",
    "\n",
    "def measure_time(n):\n",
    "    array = np.arange(n)\n",
    "    target = np.random.randint(0, n)\n",
    "    \n",
    "    start_time = time.time()\n",
    "    bin_search(array, target)\n",
    "    end_time = time.time()\n",
    "    \n",
    "    return end_time - start_time\n",
    "\n",
    "def create_dataframe(n_start, n_end, step):\n",
    "    data = {'n': [], 'time': []}\n",
    "    \n",
    "    for n in range(n_start, n_end, step):\n",
    "        time_taken = measure_time(n)\n",
    "        data['n'].append(n)\n",
    "        data['time'].append(time_taken)\n",
    "    \n",
    "    df = pd.DataFrame(data)\n",
    "    return df\n",
    "\n",
    "sizes = [50, 100, 500, 1000, 5000, 10000, 20000, 30000, 40000, 50000]\n",
    "arrays = []\n",
    "for size in sizes:\n",
    "    array = [random.randint(0, 100) for _ in range(size)]\n",
    "    arrays.append(array)\n",
    "\n",
    "timeI = [] \n",
    "timeB = [] \n",
    "\n",
    "for n in range(len(sizes)):\n",
    "    array = np.sort(arrays[n])\n",
    "    target = random.choice(array)\n",
    "\n",
    "    start_time = time.time()\n",
    "    linear_search(array, target)\n",
    "    timeI.append(time.time() - start_time)\n",
    "\n",
    "    start_time = time.time()\n",
    "    bin_search(array, target)\n",
    "    timeB.append(time.time() - start_time)\n",
    "\n",
    "plt.plot([50, 100, 500, 1000, 5000, 10000, 20000, 30000, 40000, 50000], [timeB[0], timeB[1],timeB[2],timeB[3],timeB[4],timeB[5],timeB[6],timeB[7],timeB[8],timeB[9]], color='red')\n",
    "plt.plot([50, 100, 500, 1000, 5000, 10000, 20000, 30000, 40000, 50000], [timeI[0], timeI[1],timeI[2],timeI[3],timeI[4],timeI[5],timeI[6],timeI[7],timeI[8],timeI[9]], color='black')\n",
    "print(\"Червоною лінією зображено binary search, чорною лінією linear search\")"
   ]
  },
  {
   "cell_type": "markdown",
   "id": "033a8f19-f269-47e0-bf5a-9ed59de86fbe",
   "metadata": {},
   "source": [
    "як бачимо бінарний пошук є ефективнішим для великих n"
   ]
  },
  {
   "cell_type": "markdown",
   "id": "313efd27-6e8c-4bee-8111-f31ba9beba9a",
   "metadata": {},
   "source": [
    "## <center> Контрольні питання </center>\n",
    "\n",
    "##### _Сформулювати задачу пошуку_\n",
    "\n",
    "Є n-на кількість товарів у магазині, кожен товар має свій унікальний номер. Щоб знайти свій товар, вам потрібно по черзі дивитись на кожну полицю шукаючи потрібний номер (Лінійне сортування), або вибрати центральну полицю і кожен наступний раз вибирати середню полицю у тій стороні де знаходиться ваш номер (у тому випадку якщо полиці містять відсортовані номери) (Бінарний пошук).\n",
    "\n",
    "##### _Які критерії можна використовувати для оцінки ефективності алгоритмів пошуку?_\n",
    "\n",
    "Час виконання, асимптотична складність\n",
    "\n",
    "##### _Що таке лінійний пошук і якова його асимптотична складність?_\n",
    "\n",
    "Лінійний пошук йде по черзі і шукає потрібний об'єкт, має асимптотичну складність O(n)\n",
    "\n",
    "##### _Що таке бінарний (двійковий) пошук і в чому полягає його основний принцип роботи?_\n",
    "\n",
    "Бінарний пошук кожну ітерацію зменшує обсяг удвічі щоб знайти потрібний об'єкт, має асимптотичну складність O(log(n))\n",
    "\n",
    "##### _Які переваги і недоліки використання бінарного пошуку порівняно з лінійним?_\n",
    "\n",
    "Перевага у часі виконання для великих n, у меншій асимптотичній складності. Із недоліків бінарний пошук вимагає щоб масив об'єктів був відсортований\n",
    "\n",
    "##### _Які ще алгоритми пошуку існують, окрім лінійного і бінарного?_\n",
    "\n",
    "Пошуки для графів, Ін\n"
   ]
  },
  {
   "cell_type": "code",
   "execution_count": null,
   "id": "493469ff-023c-478a-bf73-10a839011a68",
   "metadata": {},
   "outputs": [],
   "source": []
  }
 ],
 "metadata": {
  "kernelspec": {
   "display_name": "Python 3 (ipykernel)",
   "language": "python",
   "name": "python3"
  },
  "language_info": {
   "codemirror_mode": {
    "name": "ipython",
    "version": 3
   },
   "file_extension": ".py",
   "mimetype": "text/x-python",
   "name": "python",
   "nbconvert_exporter": "python",
   "pygments_lexer": "ipython3",
   "version": "3.12.2"
  }
 },
 "nbformat": 4,
 "nbformat_minor": 5
}
