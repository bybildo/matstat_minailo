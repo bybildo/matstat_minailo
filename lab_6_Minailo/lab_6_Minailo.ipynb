{
 "cells": [
  {
   "cell_type": "markdown",
   "id": "b88e9248-2b03-4823-9e07-c041b40edfdf",
   "metadata": {},
   "source": [
    "---\n",
    "# <center> Лабораторна робота №6 </center>\n",
    "## __Тема.__ Структури даних стек і черга\n",
    "## __Мета:__ засвоїти основні функції та алгоритми роботи зі стеком і чергою засобами Python.\n",
    "### _Викoнав Міняйло Марк 15.04.24_\n",
    "----"
   ]
  },
  {
   "cell_type": "markdown",
   "id": "8f888887-0c48-459a-b893-93745247902a",
   "metadata": {},
   "source": [
    "# <center> Хід роботи </center>"
   ]
  },
  {
   "cell_type": "markdown",
   "id": "d3d89e7c-e3de-4ca6-8b99-e9268d5222ff",
   "metadata": {},
   "source": [
    "#### - Оцінити асимптотичну складність процедур search, insert і delete роботи зі стеком.\n",
    "#### - Написати функцію pop_n(), що видаляє елементи стека з його початку до номеру n включно"
   ]
  },
  {
   "cell_type": "code",
   "execution_count": 6,
   "id": "b158d900-8cb8-402d-bae0-e3384bc877b2",
   "metadata": {},
   "outputs": [],
   "source": [
    "class Stack:\n",
    "    def __init__(self):\n",
    "        self.items = []\n",
    "\n",
    "    def isEmpty(self):\n",
    "        return self.items == []\n",
    "\n",
    "    def push(self, item):       \n",
    "        self.items.append(item) # Функція вставляння має асимптотичну складність O(1), у будь-якому разі\n",
    "\n",
    "    def pop(self):\n",
    "        return self.items.pop() # Функція видалення має асимптотичну складність O(1), у будь-якому разі\n",
    "\n",
    "    def search(self, item):     # Фукція пошуку має асимптотичну складність Ω(1) у найкращому разі\n",
    "        if item in self.stack:  # і O(n) у найгіршому\n",
    "            return True\n",
    "        else:\n",
    "            return False\n",
    "            \n",
    "    def peek(self):\n",
    "        return self.items[-1]\n",
    "\n",
    "    def size(self):\n",
    "        return len(self.items)\n",
    "        \n",
    "#################################\n",
    "    def pop_n(self, n):         # функцію pop_n(), що видаляє елементи стека з його початку до номеру n включно\n",
    "         return stack[n:]"
   ]
  },
  {
   "cell_type": "markdown",
   "id": "b610aacf-7b30-4dc7-9e06-c0b38705c65e",
   "metadata": {},
   "source": [
    "#### - Оцінити асимптотичну складність (в середньому і в найгіршому разі) процедур search, insert і delete роботи з чергою.\n",
    "#### - Hаписати функцію print_n(), що друкує елементи черги з його початку до номеру n включно;"
   ]
  },
  {
   "cell_type": "code",
   "execution_count": 8,
   "id": "469538ad-2528-4a4f-9408-c7bd28557065",
   "metadata": {},
   "outputs": [],
   "source": [
    "class Queue:\n",
    "    def __init__(self):\n",
    "        self.items = []\n",
    "\n",
    "    def isEmpty(self):\n",
    "        return self.items == []\n",
    "\n",
    "    def enqueue(self, item):       # Функція вставляння має асимптотичну складність O(n) у будь-якому разі,\n",
    "        self.items.insert(0,item)  # оскільки він може потребувати зсуву всіх інших елементів у списку \n",
    "                                   # хоча якщо елементів буде 0 то асимптотична складність буде O(1)\n",
    "\n",
    "    def dequeue(self):             # Аналогічно до функції видалення, вона також має асимптотичну складність O(n) у будь-якому разі\n",
    "        return self.items.pop()    \n",
    "\n",
    "    def size(self):             \n",
    "        return len(self.items)\n",
    "\n",
    "    def search(self, item):        # Фукція пошуку має асимптотичну складність Ω(1) у найкращому разі\n",
    "        return item in self.items  # і O(n) у найгіршому\n",
    "\n",
    "####################################\n",
    "    def print_n(self, n):          #функціz print_n(), що друкує елементи черги з його початку до номеру n включно\n",
    "        for i in range(min(n, len(self.items))):\n",
    "            print(self.items[-(i+1)])"
   ]
  },
  {
   "cell_type": "markdown",
   "id": "97f135f3-511a-42db-b95d-210bd52069b0",
   "metadata": {},
   "source": [
    "#### Контрольних питань немає"
   ]
  }
 ],
 "metadata": {
  "kernelspec": {
   "display_name": "Python 3 (ipykernel)",
   "language": "python",
   "name": "python3"
  },
  "language_info": {
   "codemirror_mode": {
    "name": "ipython",
    "version": 3
   },
   "file_extension": ".py",
   "mimetype": "text/x-python",
   "name": "python",
   "nbconvert_exporter": "python",
   "pygments_lexer": "ipython3",
   "version": "3.12.2"
  }
 },
 "nbformat": 4,
 "nbformat_minor": 5
}
