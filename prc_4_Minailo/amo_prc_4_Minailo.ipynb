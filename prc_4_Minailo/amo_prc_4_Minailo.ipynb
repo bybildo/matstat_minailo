{
 "cells": [
  {
   "cell_type": "markdown",
   "id": "ec63ec7b-27e6-4531-8251-a54532f240ec",
   "metadata": {},
   "source": [
    "---\n",
    "# <center> Практична робота №3 </center>\n",
    "## __Тема. Алгоритми пошуку та їх складність__\n",
    "## __Мета:__ опанувати основні алгоритми сортування та навчитись методам аналізу їх асимптотичної складності.\n",
    "### _Викoнав Міняйло Марк 27.04.24_\n",
    "----"
   ]
  },
  {
   "cell_type": "markdown",
   "id": "88202f43-e4ec-458e-8f1a-f17f94e35546",
   "metadata": {},
   "source": [
    "## <center> Хід роботи </center>\n",
    "#### 1) Оцінити асимптотичну складність алгоритму лінійного пошуку у 𝑂-нотації в найгіршому і в найкращому випадку. Як можна покращити алгоритм лінійного пошуку?у?"
   ]
  },
  {
   "cell_type": "code",
   "execution_count": null,
   "id": "add88062-be1b-4321-bf0a-da4b716d2a09",
   "metadata": {},
   "outputs": [],
   "source": [
    "def linear_search(a_list, x):                ##          у найкращому # у найгіршому\n",
    "    i, length = 0, len(a_list)               ##  c1           1       #       1      \n",
    "    while i < length and x != a_list[i]:     ##  c2           1       #      n+1      \n",
    "        i += 1                               ##  c3           0       #       n             \n",
    "    return i+1 if i < length else -1         ##  c4           1       #       1        \n",
    "    \n",
    "# у найкращому: (c1 + c2 + c4) = O(1)\n",
    "# у найгіршому: (c2 + c3)n + (c1 + c2 + c4) = a * n + b = O(n)\n",
    "# Покращити можна, якщо попередньо масив впорядкувати."
   ]
  },
  {
   "cell_type": "markdown",
   "id": "31da1c32-da80-43d1-99b6-f043862aa705",
   "metadata": {},
   "source": [
    "#### 2) Оцінити асимптотичну складність алгоритму бінарного пошуку у 𝑂-нотації в найгіршому і в найкращому випадку"
   ]
  },
  {
   "cell_type": "code",
   "execution_count": null,
   "id": "85039369-923a-4067-8506-7db581149cfd",
   "metadata": {},
   "outputs": [],
   "source": [
    "def bin_search(a_list, x, left, right):                    ##         у найкращому # у найгіршому\n",
    "    if left > right or len(a_list) == 0:                   ##  c1          1       #       1        \n",
    "        return -1                                          ##  c2          0       #       0\n",
    "    middle = (left + right) // 2                           ##  c3          1       #       1\n",
    "    if a_list[middle] == x:                                ##  c4          1       #       1\n",
    "        return middle + 1                                  ##  c5          1       #       0\n",
    "    elif (a_list[middle] < x):                             ##  c6          0       #       1\n",
    "        return bin_search(a_list, x, middle + 1, right)    ##  c7          0       #     Log2(n)\n",
    "    else: # a_list[middle] > x                             ##  c8          0       #       1\n",
    "        return bin_search(a_list, x, left, middle - 1)     ##  c9          0       #     Log2(n)\n",
    "\n",
    "# У найкращому: (с1 + с2) або (с1 + с3 + с4 + с5), в будь-якому випадку = О(1)\n",
    "# У найгіршому: (с7 + с9)Log2(n) + (с1 + с3 + с4 + с6 + с7) = a * Log2(n) + b = O(Log2(n))"
   ]
  },
  {
   "cell_type": "markdown",
   "id": "f6ab3449-217f-4e35-a6ce-1329f787ae4c",
   "metadata": {},
   "source": [
    "#### 3) Побудувати алгоритм тернарного пошуку і оцінити його асимптотичну складність алгоритму у 𝑂-нотації в найгіршому і в найкращому випадку. Який з алгоритмів є оптимальнішим: бінарний, чи тернарний? Обґрунтувати відповідь відповідними обчисленнями"
   ]
  },
  {
   "cell_type": "code",
   "execution_count": null,
   "id": "e33d045b-33ea-4787-86a0-9a1ad0fba9fa",
   "metadata": {},
   "outputs": [],
   "source": [
    "def ternary_search(a_list, x, left, right):                ##         у найкращому # у найгіршому\n",
    "    if (right >= left):                                    ##  c1          1       #       1\n",
    "        mid1 = left + (right-left) // 3                    ##  c2          1       #       1\n",
    "        mid2 = right - (right-left) // 3                   ##  c3          1       #       1\n",
    "        if (a_list[mid1] == x):                            ##  c4          1       #       1\n",
    "            return mid1                                    ##  c5          1       #       0\n",
    "        if (a_list[mid2] == x):                            ##  c6          0       #       1\n",
    "            return mid2                                    ##  c7          0       #       0\n",
    "        if (x < a_list[mid1]):                             ##  c8          0       #       1\n",
    "            return ternary_search(a_list, x, left, mid1-1) ##  c9          0       #     Log3(n)\n",
    "        elif (x > a_list[mid2]):                           ##  c10         0       #       1\n",
    "            return ternary_search(a_list, x, mid2+1, right)##  c11         0       #     Log3(n)\n",
    "        else:                                              ##  c12         0       #       1\n",
    "            return ternary_search(a_list, x, mid1+1, mid2-1)## c13         0       #     Log3(n)\n",
    "    return -1                                              ##  c14         0       #       1\n",
    "# У найкращому: О(1)\n",
    "# У найгіршому: O(Log3(n))\n",
    "# Бінарний пошук має менше порівнянь, тернарний пошук менше кроків\n",
    "# Також при використанні тернарного пошуку можуть виникнути проблеми через помилки округлення при визначенні середніх індексів\n",
    "# Думаю оптимальнішим буде бінарний пошук, хоча однозначно є задачі з якими краще справиться тернарний пошук"
   ]
  },
  {
   "cell_type": "markdown",
   "id": "c23d3963-9530-48d1-bf01-df97757788a2",
   "metadata": {},
   "source": [
    "#### 4) Порівняти ефективність алгоритмів лінійного, бінарного та тернарного пошуку для різних розмірів вхідного списку. Для цього провести експериментальне дослідження та побудувати графіки залежності часу виконання алгоритму від розміру вхідного списку"
   ]
  },
  {
   "cell_type": "code",
   "execution_count": 48,
   "id": "4cc56197-e05e-466c-aaea-a6485d906c9b",
   "metadata": {},
   "outputs": [
    {
     "name": "stdout",
     "output_type": "stream",
     "text": [
      "Червоною лінією зображено binary search, синьою ternary search, чорною лінією linear search\n"
     ]
    },
    {
     "data": {
      "image/png": "[encoded data removed]",
      "text/plain": [
       "<Figure size 640x480 with 1 Axes>"
      ]
     },
     "metadata": {},
     "output_type": "display_data"
    }
   ],
   "source": [
    "import matplotlib.pyplot as plt\n",
    "import time\n",
    "import random\n",
    "import numpy as np\n",
    "%matplotlib inline\n",
    "\n",
    "def linear_search(array, target):\n",
    "    for i in range(len(array)):\n",
    "        if array[i] == target:\n",
    "            return i\n",
    "    return -1\n",
    "    \n",
    "def bin_search(array, target):\n",
    "    low = 0\n",
    "    high = len(array) - 1\n",
    "\n",
    "    while low <= high:\n",
    "        mid = (low + high) // 2\n",
    "        if array[mid] < target:\n",
    "            low = mid + 1\n",
    "        elif array[mid] > target:\n",
    "            high = mid - 1\n",
    "        else:\n",
    "            return mid\n",
    "    return -1\n",
    "\n",
    "def ternary_search(a_list, x, left, right):               \n",
    "    if (right >= left):                                    \n",
    "        mid1 = left + (right-left) // 3                    \n",
    "        mid2 = right - (right-left) // 3                  \n",
    "        if (a_list[mid1] == x):                           \n",
    "            return mid1                                    \n",
    "        if (a_list[mid2] == x):                         \n",
    "            return mid2                                 \n",
    "        if (x < a_list[mid1]):                            \n",
    "            return ternary_search(a_list, x, left, mid1-1)\n",
    "        elif (x > a_list[mid2]):                           \n",
    "            return ternary_search(a_list, x, mid2+1, right)\n",
    "        else:                                           \n",
    "            return ternary_search(a_list, x, mid1+1, mid2-1)\n",
    "    return -1\n",
    "\n",
    "sizes = [50, 100, 500, 1000, 5000, 10000, 20000, 30000, 40000, 50000]\n",
    "arrays = []\n",
    "for size in sizes:\n",
    "    array = [random.randint(0, 100) for _ in range(size)]\n",
    "    arrays.append(array)\n",
    "\n",
    "timeI = [] \n",
    "timeB = [] \n",
    "timeT = [] \n",
    "\n",
    "for n in range(len(sizes)):\n",
    "    array = np.sort(arrays[n])\n",
    "    target = random.choice(array)\n",
    "\n",
    "    start_time = time.time()\n",
    "    linear_search(array, target)\n",
    "    timeI.append(time.time() - start_time)\n",
    "\n",
    "    start_time = time.time()\n",
    "    bin_search(array, target)\n",
    "    timeB.append(time.time() - start_time)\n",
    "\n",
    "    start_time = time.time()\n",
    "    ternary_search(array, target, 0, len(array) - 1)\n",
    "    timeT.append(time.time() - start_time)\n",
    "\n",
    "plt.plot([50, 100, 500, 1000, 5000, 10000, 20000, 30000, 40000, 50000], [timeB[0], timeB[1],timeB[2],timeB[3],timeB[4],timeB[5],timeB[6],timeB[7],timeB[8],timeB[9]], color='red')\n",
    "plt.plot([50, 100, 500, 1000, 5000, 10000, 20000, 30000, 40000, 50000], [timeI[0], timeI[1],timeI[2],timeI[3],timeI[4],timeI[5],timeI[6],timeI[7],timeI[8],timeI[9]], color='black')\n",
    "plt.plot([50, 100, 500, 1000, 5000, 10000, 20000, 30000, 40000, 50000], [timeT[0], timeT[1],timeT[2],timeT[3],timeT[4],timeT[5],timeT[6],timeT[7],timeT[8],timeT[9]], color='bl')\n",
    "print(\"Червоною лінією зображено binary search, синьою ternary search, чорною лінією linear search\")"
   ]
  },
  {
   "cell_type": "markdown",
   "id": "7e631edb-273e-4d89-9c71-7b9006e6b80e",
   "metadata": {},
   "source": [
    "#### 5) Порівняти алгоритми пошуку за їхньою здатністю працювати з відсортованими та не відсортованими списками\n",
    "\n",
    "Із цих трьох пошуків тільки лінійний може працювати з невісортованими списками"
   ]
  },
  {
   "cell_type": "markdown",
   "id": "a284d8f9-a550-4bf1-87ab-4f3978df10b0",
   "metadata": {},
   "source": [
    "#### 6) Розглянути сценарії використання кожного з алгоритмів пошуку у практичних задачах і обґрунтувати вибір кожного алгоритму в конкретному випадку.\n",
    "Лінійний слід використовувати для невідсортованих невеликих списків, наприклад, пошук оц/інок учня у класі за ім'ям.\n",
    "\n",
    "Бінарний для всіх відсортованих спиків, наприклад, пошук телефону у телефонній книзі, звісно ім'я у списоку повинні бути відсортованні за алфавітом. \n",
    "\n",
    "Тернарний для всіх великих відсортованих списків, коли функція монотонна, і має багато локальних мінімумів або максимумів, наприклад, як у оптимізаційних задачах."
   ]
  },
  {
   "cell_type": "markdown",
   "id": "71910b75-0472-47fb-875e-ad47ecccb98d",
   "metadata": {},
   "source": [
    "---\n",
    "## <center> Контрольні питання </center> \n",
    "__*1. Що таке алгоритм пошуку і чому він важливий у контексті комп'ютерних наук?*__\n",
    "\n",
    "Алгоритм пошуку - це алгоритм який допомагає нам знайти потрібний елемент у списку, важлий у контексті ком'пютерних наук, особливо при роботі з базами данних\n",
    "\n",
    "__*2. Які основні критерії оцінки ефективності алгоритмів пошуку?*__\n",
    "\n",
    "Асимптотична складність, швидкість, для яких масивів застосовується( відсортовані, невідсортовані), кількість порівнянь \n",
    "\n",
    "__*3. Що таке лінійний пошук, і як він працює?*__\n",
    "\n",
    "Йде лінійно по списку і перевіряє чи це є потрібний нам елемент, чи ні, якщо знаходить надсилає індекс\n",
    "\n",
    "__*4. Які умови повинні бути виконані для успішного застосування бінарного пошуку?*__\n",
    "\n",
    "Масив повинен бути попередньо відсортований\n",
    "\n",
    "__*5. Які переваги та недоліки використання бінарного пошуку порівняно з іншими алгоритмами пошуку?*__\n",
    "\n",
    "Із переваг швидкість, з недоліків потрібно виртрачати час для відсортування масиву\n",
    "\n",
    "__*6. Що таке тернарний пошук, і в чому його відмінність від бінарного пошуку?*__\n",
    "\n",
    "Логіка майже така сама як і бінарного пошуку, але ділить список не на дві частини при перевірці, а на три"
   ]
  }
 ],
 "metadata": {
  "kernelspec": {
   "display_name": "Python 3 (ipykernel)",
   "language": "python",
   "name": "python3"
  },
  "language_info": {
   "codemirror_mode": {
    "name": "ipython",
    "version": 3
   },
   "file_extension": ".py",
   "mimetype": "text/x-python",
   "name": "python",
   "nbconvert_exporter": "python",
   "pygments_lexer": "ipython3",
   "version": "3.12.2"
  }
 },
 "nbformat": 4,
 "nbformat_minor": 5
}
